{
 "cells": [
  {
   "cell_type": "code",
   "execution_count": 1,
   "metadata": {
    "collapsed": true
   },
   "outputs": [],
   "source": [
    "import pandas as pd\n",
    "import seaborn as sns\n",
    "%matplotlib inline"
   ]
  },
  {
   "cell_type": "code",
   "execution_count": 2,
   "metadata": {},
   "outputs": [
    {
     "data": {
      "text/plain": [
       "413136"
      ]
     },
     "execution_count": 2,
     "metadata": {},
     "output_type": "execute_result"
    }
   ],
   "source": [
    "ru_python_path = '/home/tonko22/PycharmProjects/telegramMsgHistory/ru_python.txt'\n",
    "with open(ru_python_path, 'r') as f:\n",
    "    lines = f.readlines()\n",
    "len(lines)"
   ]
  },
  {
   "cell_type": "code",
   "execution_count": 3,
   "metadata": {},
   "outputs": [
    {
     "data": {
      "text/plain": [
       "['[*2**new_message*2**] ну уж не мешает точно 8)\\n',\n",
       " '[*2**new_message*2**] Помогает в жизни?)\\n',\n",
       " '[*2**new_message*2**] тыц. 9к репы на стэковерфлоу\\n',\n",
       " '[*2**new_message*2**] Кто нибудь с coinbase работал? Хочу узнать, вот когда подключаешь вебхуки, и когда на твой адрес поступают биткоины, они шлют на мой адрес уведомление, а шлют ли они повторно это уведомление когда транзакция подтверждается?\\n',\n",
       " '[*2**new_message*2**] есть идеи? на других сайтах норм, идет отбойник что защита от роботов\\n']"
      ]
     },
     "execution_count": 3,
     "metadata": {},
     "output_type": "execute_result"
    }
   ],
   "source": [
    "lines[:5]"
   ]
  },
  {
   "cell_type": "code",
   "execution_count": 5,
   "metadata": {},
   "outputs": [
    {
     "data": {
      "text/plain": [
       "['ну уж не мешает точно 8)\\n',\n",
       " 'Помогает в жизни?)\\n',\n",
       " 'тыц. 9к репы на стэковерфлоу\\n',\n",
       " 'Кто нибудь с coinbase работал? Хочу узнать, вот когда подключаешь вебхуки, и когда на твой адрес поступают биткоины, они шлют на мой адрес уведомление, а шлют ли они повторно это уведомление когда транзакция подтверждается?\\n',\n",
       " 'есть идеи? на других сайтах норм, идет отбойник что защита от роботов\\n']"
      ]
     },
     "execution_count": 5,
     "metadata": {},
     "output_type": "execute_result"
    }
   ],
   "source": [
    "def splitter(list_of_strings):\n",
    "    message_marker = '[*2**new_message*2**] '\n",
    "    result =  ''.join(list_of_strings).split(message_marker)\n",
    "    return list(filter(None, result))\n",
    "split_lines = splitter(lines)\n",
    "split_lines[:5]"
   ]
  },
  {
   "cell_type": "code",
   "execution_count": 6,
   "metadata": {},
   "outputs": [
    {
     "data": {
      "text/plain": [
       "351989"
      ]
     },
     "execution_count": 6,
     "metadata": {},
     "output_type": "execute_result"
    }
   ],
   "source": [
    "len(split_lines)"
   ]
  },
  {
   "cell_type": "code",
   "execution_count": 7,
   "metadata": {},
   "outputs": [
    {
     "data": {
      "text/html": [
       "<div>\n",
       "<table border=\"1\" class=\"dataframe\">\n",
       "  <thead>\n",
       "    <tr style=\"text-align: right;\">\n",
       "      <th></th>\n",
       "      <th>message</th>\n",
       "    </tr>\n",
       "  </thead>\n",
       "  <tbody>\n",
       "    <tr>\n",
       "      <th>0</th>\n",
       "      <td>ну уж не мешает точно 8)\\n</td>\n",
       "    </tr>\n",
       "    <tr>\n",
       "      <th>1</th>\n",
       "      <td>Помогает в жизни?)\\n</td>\n",
       "    </tr>\n",
       "    <tr>\n",
       "      <th>2</th>\n",
       "      <td>тыц. 9к репы на стэковерфлоу\\n</td>\n",
       "    </tr>\n",
       "    <tr>\n",
       "      <th>3</th>\n",
       "      <td>Кто нибудь с coinbase работал? Хочу узнать, во...</td>\n",
       "    </tr>\n",
       "    <tr>\n",
       "      <th>4</th>\n",
       "      <td>есть идеи? на других сайтах норм, идет отбойни...</td>\n",
       "    </tr>\n",
       "  </tbody>\n",
       "</table>\n",
       "</div>"
      ],
      "text/plain": [
       "                                             message\n",
       "0                         ну уж не мешает точно 8)\\n\n",
       "1                               Помогает в жизни?)\\n\n",
       "2                     тыц. 9к репы на стэковерфлоу\\n\n",
       "3  Кто нибудь с coinbase работал? Хочу узнать, во...\n",
       "4  есть идеи? на других сайтах норм, идет отбойни..."
      ]
     },
     "execution_count": 7,
     "metadata": {},
     "output_type": "execute_result"
    }
   ],
   "source": [
    "messages = pd.DataFrame(split_lines, columns=['message'])\n",
    "messages.head()"
   ]
  },
  {
   "cell_type": "code",
   "execution_count": 8,
   "metadata": {},
   "outputs": [
    {
     "data": {
      "text/html": [
       "<div>\n",
       "<table border=\"1\" class=\"dataframe\">\n",
       "  <thead>\n",
       "    <tr style=\"text-align: right;\">\n",
       "      <th></th>\n",
       "      <th>message</th>\n",
       "      <th>len</th>\n",
       "    </tr>\n",
       "  </thead>\n",
       "  <tbody>\n",
       "    <tr>\n",
       "      <th>0</th>\n",
       "      <td>ну уж не мешает точно 8)</td>\n",
       "      <td>24</td>\n",
       "    </tr>\n",
       "    <tr>\n",
       "      <th>1</th>\n",
       "      <td>помогает в жизни?)</td>\n",
       "      <td>18</td>\n",
       "    </tr>\n",
       "    <tr>\n",
       "      <th>2</th>\n",
       "      <td>тыц. 9к репы на стэковерфлоу</td>\n",
       "      <td>28</td>\n",
       "    </tr>\n",
       "    <tr>\n",
       "      <th>3</th>\n",
       "      <td>кто нибудь с coinbase работал? хочу узнать, во...</td>\n",
       "      <td>223</td>\n",
       "    </tr>\n",
       "    <tr>\n",
       "      <th>4</th>\n",
       "      <td>есть идеи? на других сайтах норм, идет отбойни...</td>\n",
       "      <td>69</td>\n",
       "    </tr>\n",
       "  </tbody>\n",
       "</table>\n",
       "</div>"
      ],
      "text/plain": [
       "                                             message  len\n",
       "0                           ну уж не мешает точно 8)   24\n",
       "1                                 помогает в жизни?)   18\n",
       "2                       тыц. 9к репы на стэковерфлоу   28\n",
       "3  кто нибудь с coinbase работал? хочу узнать, во...  223\n",
       "4  есть идеи? на других сайтах норм, идет отбойни...   69"
      ]
     },
     "execution_count": 8,
     "metadata": {},
     "output_type": "execute_result"
    }
   ],
   "source": [
    "messages['message'] = messages['message'].str.lower().str.strip()\n",
    "messages['len'] = messages['message'].str.len()\n",
    "messages.head()"
   ]
  },
  {
   "cell_type": "code",
   "execution_count": 12,
   "metadata": {},
   "outputs": [
    {
     "data": {
      "text/plain": [
       "(0, 60)"
      ]
     },
     "execution_count": 12,
     "metadata": {},
     "output_type": "execute_result"
    },
    {
     "data": {
      "image/png": "[encoded data removed]",
      "text/plain": [
       "<matplotlib.figure.Figure at 0x7f72b024bf98>"
      ]
     },
     "metadata": {},
     "output_type": "display_data"
    }
   ],
   "source": [
    "# messages['len'].plot('hist')\n",
    "messages['len'].plot.hist(bins=600).set_xlim([0,60])"
   ]
  },
  {
   "cell_type": "code",
   "execution_count": 45,
   "metadata": {},
   "outputs": [
    {
     "data": {
      "text/plain": [
       "<matplotlib.axes._subplots.AxesSubplot at 0x7fadee81ff28>"
      ]
     },
     "execution_count": 45,
     "metadata": {},
     "output_type": "execute_result"
    },
    {
     "data": {
      "image/png": "[encoded data removed]",
      "text/plain": [
       "<matplotlib.figure.Figure at 0x7fadee82a208>"
      ]
     },
     "metadata": {},
     "output_type": "display_data"
    }
   ],
   "source": [
    "sns.distplot(messages['len'])"
   ]
  },
  {
   "cell_type": "code",
   "execution_count": null,
   "metadata": {
    "collapsed": true
   },
   "outputs": [],
   "source": []
  }
 ],
 "metadata": {
  "kernelspec": {
   "display_name": "Python 3",
   "language": "python",
   "name": "python3"
  },
  "language_info": {
   "codemirror_mode": {
    "name": "ipython",
    "version": 3
   },
   "file_extension": ".py",
   "mimetype": "text/x-python",
   "name": "python",
   "nbconvert_exporter": "python",
   "pygments_lexer": "ipython3",
   "version": "3.6.2"
  }
 },
 "nbformat": 4,
 "nbformat_minor": 1
}
